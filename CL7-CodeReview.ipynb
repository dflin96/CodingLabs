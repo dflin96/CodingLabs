{
 "cells": [
  {
   "cell_type": "markdown",
   "metadata": {},
   "source": [
    "# Coding Lab 7: Project Overview\n",
    "\n",
    "Welcome to the seventh coding lab!\n",
    "\n",
    "This coding lab is all about the projects. \n",
    "\n",
    "Find a partner, and talk about your ideas for the project. Talk through any outlines and code you have.\n",
    "\n",
    "Get some feedback on your ideas, both from your fellow students, and also make sure to check in with available course staff. \n",
    "\n",
    "You can also use some of this time to work on your project. "
   ]
  }
 ],
 "metadata": {
  "kernelspec": {
   "display_name": "Python [conda root]",
   "language": "python",
   "name": "conda-root-py"
  },
  "language_info": {
   "codemirror_mode": {
    "name": "ipython",
    "version": 3
   },
   "file_extension": ".py",
   "mimetype": "text/x-python",
   "name": "python",
   "nbconvert_exporter": "python",
   "pygments_lexer": "ipython3",
   "version": "3.6.6"
  }
 },
 "nbformat": 4,
 "nbformat_minor": 2
}
